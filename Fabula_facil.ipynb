{
  "nbformat": 4,
  "nbformat_minor": 0,
  "metadata": {
    "colab": {
      "provenance": [],
      "authorship_tag": "ABX9TyOBWsYa/Yb/5XRSagH9M184",
      "include_colab_link": true
    },
    "kernelspec": {
      "name": "python3",
      "display_name": "Python 3"
    },
    "language_info": {
      "name": "python"
    }
  },
  "cells": [
    {
      "cell_type": "markdown",
      "metadata": {
        "id": "view-in-github",
        "colab_type": "text"
      },
      "source": [
        "<a href=\"https://colab.research.google.com/github/sndemedeiros/Desafio_Imersao_Alura03/blob/main/Fabula_facil.ipynb\" target=\"_parent\"><img src=\"https://colab.research.google.com/assets/colab-badge.svg\" alt=\"Open In Colab\"/></a>"
      ]
    },
    {
      "cell_type": "code",
      "execution_count": 11,
      "metadata": {
        "id": "uILTZqhOVyoA"
      },
      "outputs": [],
      "source": [
        "import google.generativeai as genai\n",
        "import random\n",
        "from IPython.display import display, Markdown"
      ]
    },
    {
      "cell_type": "code",
      "source": [
        "# Configuração da API\n",
        "from google.colab import userdata\n",
        "api_key = userdata.get('SECRET_KEY')\n",
        "genai.configure(api_key=api_key)"
      ],
      "metadata": {
        "id": "F3g13o57V6sf"
      },
      "execution_count": 12,
      "outputs": []
    },
    {
      "cell_type": "code",
      "source": [
        "# Configurações do modelo\n",
        "generation_config = {\n",
        "    \"candidate_count\": 1,\n",
        "    \"temperature\": 0.7\n",
        "}\n",
        "\n",
        "safety_settings = {\n",
        "    'HATE': 'BLOCK_NONE',\n",
        "    'HARASSMENT': 'BLOCK_NONE',\n",
        "    'SEXUAL': 'BLOCK_NONE',\n",
        "    'DANGEROUS': 'BLOCK_NONE'\n",
        "}\n",
        "\n",
        "model = genai.GenerativeModel(\n",
        "    model_name='gemini-1.0-pro',\n",
        "    generation_config=generation_config,\n",
        "    safety_settings=safety_settings\n",
        ")"
      ],
      "metadata": {
        "id": "wsOPgI_dWQXk"
      },
      "execution_count": 16,
      "outputs": []
    },
    {
      "cell_type": "code",
      "source": [
        "# Função para gerar histórias\n",
        "def generate_story(theme, character, element):\n",
        "    prompt = f\"Escreva uma história curta para crianças sobre um {character}, que vive em um mundo de {theme} e encontra um {element}.\"\n",
        "    response = model.generate_content(prompt)\n",
        "    return response.text\n",
        "\n",
        "def main():\n",
        "    print(\"Bem-vindo ao Criador de Histórias Infantis!\")\n",
        "    theme = input(\"Escolha um tema para a história (aventura, fantasia, espaço): \")\n",
        "    character = input(\"Escolha um personagem (explorador, animal falante, robô): \")\n",
        "    element = input(\"Escolha um elemento mágico (varinha mágica, cristal poderoso, mapa do tesouro): \")\n",
        "\n",
        "    title = f\"Aventuras de um {character} no Mundo de {theme.capitalize()}\"\n",
        "    story = generate_story(theme, character, element)\n",
        "\n",
        "    display(Markdown(f\"### {title}\\n\\n{story}\"))\n",
        "\n",
        "if __name__ == \"__main__\":\n",
        "    main()"
      ],
      "metadata": {
        "colab": {
          "base_uri": "https://localhost:8080/",
          "height": 333
        },
        "id": "hY-iYP5LWYfX",
        "outputId": "0e3cdfe8-5c52-437e-bc2b-a8829ccbe898"
      },
      "execution_count": 17,
      "outputs": [
        {
          "name": "stdout",
          "output_type": "stream",
          "text": [
            "Bem-vindo ao Criador de Histórias Infantis!\n",
            "Escolha um tema para a história (aventura, fantasia, espaço): TERROR\n",
            "Escolha um personagem (explorador, animal falante, robô): lobisomem\n",
            "Escolha um elemento mágico (varinha mágica, cristal poderoso, mapa do tesouro): cristal poderoso\n"
          ]
        },
        {
          "output_type": "display_data",
          "data": {
            "text/plain": [
              "<IPython.core.display.Markdown object>"
            ],
            "text/markdown": "### Aventuras de um lobisomem no Mundo de Terror\n\nEm uma terra sombria e aterrorizante onde as sombras dançavam, vivia um lobisomem solitário chamado Lobo. Ele vagava pelas florestas escuras, seu uivo ecoando pela noite, trazendo medo aos corações de todos que ouviam.\n\nUm dia, enquanto Lobo vagava sem rumo, seus olhos pousaram em um brilho peculiar. Curioso, ele se aproximou e descobriu um cristal enorme, cintilante com uma luz misteriosa. Quando ele tocou o cristal, uma onda de energia o percorreu, enchendo-o de uma sensação de poder e determinação.\n\nA partir daquele dia, Lobo se tornou um lobisomem diferente. O cristal lhe concedeu habilidades extraordinárias, como a capacidade de correr mais rápido que o vento e saltar sobre os obstáculos mais altos. Mas, mais importante, ele lhe deu coragem e esperança.\n\nLobo usou seu novo poder para proteger aqueles que eram vítimas do terror. Ele rugia para afastar os monstros, uivava para guiar os perdidos e lutava contra as forças das trevas que atormentavam a terra.\n\nAs pessoas que antes temiam Lobo agora o viam como um farol de esperança. Eles sabiam que enquanto ele estivesse por perto, estariam seguros. E assim, o lobisomem que uma vez viveu no terror se tornou um símbolo de proteção e bravura, iluminando a escuridão com o poder do cristal."
          },
          "metadata": {}
        }
      ]
    }
  ]
}